{
  "nbformat": 4,
  "nbformat_minor": 0,
  "metadata": {
    "colab": {
      "name": "Untitled2.ipynb",
      "provenance": [],
      "collapsed_sections": [
        "k58TNcvB3qoT"
      ],
      "authorship_tag": "ABX9TyNneJ9wvYXBy45cMsMdbZqO",
      "include_colab_link": true
    },
    "kernelspec": {
      "name": "python3",
      "display_name": "Python 3"
    }
  },
  "cells": [
    {
      "cell_type": "markdown",
      "metadata": {
        "id": "view-in-github",
        "colab_type": "text"
      },
      "source": [
        "<a href=\"https://colab.research.google.com/github/Meidyt/TugasClustering/blob/main/TugasClustering.ipynb\" target=\"_parent\"><img src=\"https://colab.research.google.com/assets/colab-badge.svg\" alt=\"Open In Colab\"/></a>"
      ]
    },
    {
      "cell_type": "markdown",
      "metadata": {
        "id": "FDQTAEOR1zGP"
      },
      "source": [
        "# **CLUSTERING**\n",
        "Merupakan salah satu dari unsupervised learning, dimana data yang ada nantinya akan dikelompokkan oleh komputer tanpa melalui pelatihan data terlebih dahulu. Lalu apakah yang membedakan clustering (klastirifikasi) dengan Classification (Klasifikasi)? Bukankah klasifikasi juga mengelompokkan? \n",
        "Ya, klasifikasi dan klastirifikasi sama-sama mengelompokkan, namun yang membedakan keduanya adalah ada tidaknya label. Pada klasifikasi, data yang dikelompokkan langsung masuk ke label yang sudah ditentukan, sedangkan pada clustering (klasterifikasi) ini, data hanya dikelompokkan berdasarkan data \"terdekat\". Terdapat beberapa metode dalam clustering, pada tugas kali ini saya menggunakan K-Means Clustering "
      ]
    },
    {
      "cell_type": "markdown",
      "metadata": {
        "id": "qKshGfES3LDE"
      },
      "source": [
        "\n",
        "\n",
        "---\n",
        "\n"
      ]
    },
    {
      "cell_type": "markdown",
      "metadata": {
        "id": "l6D_4d1f3HHl"
      },
      "source": [
        "# **K-Means Clustering**"
      ]
    },
    {
      "cell_type": "markdown",
      "metadata": {
        "id": "k58TNcvB3qoT"
      },
      "source": [
        "### Import Libraries\n"
      ]
    },
    {
      "cell_type": "markdown",
      "metadata": {
        "id": "_Q5G3gGk3QGr"
      },
      "source": [
        "Seperti biasa, kita mengawali semuanya dengan melakukan import tiap library yang akan digunakan. "
      ]
    },
    {
      "cell_type": "code",
      "metadata": {
        "id": "4Dp2olivKHUV"
      },
      "source": [
        "import pandas as pd\n",
        "import numpy as np\n",
        "import matplotlib.pyplot as plt\n",
        "from sklearn.preprocessing import MinMaxScaler\n",
        "import seaborn as sns"
      ],
      "execution_count": 132,
      "outputs": []
    },
    {
      "cell_type": "markdown",
      "metadata": {
        "id": "uM6Z_eFo32va"
      },
      "source": [
        "### Import Raw Dataset"
      ]
    },
    {
      "cell_type": "markdown",
      "metadata": {
        "id": "xK7ELO2C7kRH"
      },
      "source": [
        "Raw data set yang digunakan pada kali ini diambil dari Kaggle dan telah terupload di repository saya. "
      ]
    },
    {
      "cell_type": "code",
      "metadata": {
        "id": "wrvL1fHGPOeZ",
        "outputId": "7d19d295-192b-4190-808a-4460e0268e82",
        "colab": {
          "base_uri": "https://localhost:8080/",
          "height": 424
        }
      },
      "source": [
        "df_mall = pd.read_csv('https://raw.githubusercontent.com/Meidyt/TugasClustering/main/Mall_Customers.csv')\n",
        "df_mall"
      ],
      "execution_count": 133,
      "outputs": [
        {
          "output_type": "execute_result",
          "data": {
            "text/html": [
              "<div>\n",
              "<style scoped>\n",
              "    .dataframe tbody tr th:only-of-type {\n",
              "        vertical-align: middle;\n",
              "    }\n",
              "\n",
              "    .dataframe tbody tr th {\n",
              "        vertical-align: top;\n",
              "    }\n",
              "\n",
              "    .dataframe thead th {\n",
              "        text-align: right;\n",
              "    }\n",
              "</style>\n",
              "<table border=\"1\" class=\"dataframe\">\n",
              "  <thead>\n",
              "    <tr style=\"text-align: right;\">\n",
              "      <th></th>\n",
              "      <th>CustomerID</th>\n",
              "      <th>Gender</th>\n",
              "      <th>Age</th>\n",
              "      <th>Annual Income (k$)</th>\n",
              "      <th>Spending Score (1-100)</th>\n",
              "    </tr>\n",
              "  </thead>\n",
              "  <tbody>\n",
              "    <tr>\n",
              "      <th>0</th>\n",
              "      <td>1</td>\n",
              "      <td>Male</td>\n",
              "      <td>19</td>\n",
              "      <td>15</td>\n",
              "      <td>39</td>\n",
              "    </tr>\n",
              "    <tr>\n",
              "      <th>1</th>\n",
              "      <td>2</td>\n",
              "      <td>Male</td>\n",
              "      <td>21</td>\n",
              "      <td>15</td>\n",
              "      <td>81</td>\n",
              "    </tr>\n",
              "    <tr>\n",
              "      <th>2</th>\n",
              "      <td>3</td>\n",
              "      <td>Female</td>\n",
              "      <td>20</td>\n",
              "      <td>16</td>\n",
              "      <td>6</td>\n",
              "    </tr>\n",
              "    <tr>\n",
              "      <th>3</th>\n",
              "      <td>4</td>\n",
              "      <td>Female</td>\n",
              "      <td>23</td>\n",
              "      <td>16</td>\n",
              "      <td>77</td>\n",
              "    </tr>\n",
              "    <tr>\n",
              "      <th>4</th>\n",
              "      <td>5</td>\n",
              "      <td>Female</td>\n",
              "      <td>31</td>\n",
              "      <td>17</td>\n",
              "      <td>40</td>\n",
              "    </tr>\n",
              "    <tr>\n",
              "      <th>...</th>\n",
              "      <td>...</td>\n",
              "      <td>...</td>\n",
              "      <td>...</td>\n",
              "      <td>...</td>\n",
              "      <td>...</td>\n",
              "    </tr>\n",
              "    <tr>\n",
              "      <th>195</th>\n",
              "      <td>196</td>\n",
              "      <td>Female</td>\n",
              "      <td>35</td>\n",
              "      <td>120</td>\n",
              "      <td>79</td>\n",
              "    </tr>\n",
              "    <tr>\n",
              "      <th>196</th>\n",
              "      <td>197</td>\n",
              "      <td>Female</td>\n",
              "      <td>45</td>\n",
              "      <td>126</td>\n",
              "      <td>28</td>\n",
              "    </tr>\n",
              "    <tr>\n",
              "      <th>197</th>\n",
              "      <td>198</td>\n",
              "      <td>Male</td>\n",
              "      <td>32</td>\n",
              "      <td>126</td>\n",
              "      <td>74</td>\n",
              "    </tr>\n",
              "    <tr>\n",
              "      <th>198</th>\n",
              "      <td>199</td>\n",
              "      <td>Male</td>\n",
              "      <td>32</td>\n",
              "      <td>137</td>\n",
              "      <td>18</td>\n",
              "    </tr>\n",
              "    <tr>\n",
              "      <th>199</th>\n",
              "      <td>200</td>\n",
              "      <td>Male</td>\n",
              "      <td>30</td>\n",
              "      <td>137</td>\n",
              "      <td>83</td>\n",
              "    </tr>\n",
              "  </tbody>\n",
              "</table>\n",
              "<p>200 rows × 5 columns</p>\n",
              "</div>"
            ],
            "text/plain": [
              "     CustomerID  Gender  Age  Annual Income (k$)  Spending Score (1-100)\n",
              "0             1    Male   19                  15                      39\n",
              "1             2    Male   21                  15                      81\n",
              "2             3  Female   20                  16                       6\n",
              "3             4  Female   23                  16                      77\n",
              "4             5  Female   31                  17                      40\n",
              "..          ...     ...  ...                 ...                     ...\n",
              "195         196  Female   35                 120                      79\n",
              "196         197  Female   45                 126                      28\n",
              "197         198    Male   32                 126                      74\n",
              "198         199    Male   32                 137                      18\n",
              "199         200    Male   30                 137                      83\n",
              "\n",
              "[200 rows x 5 columns]"
            ]
          },
          "metadata": {
            "tags": []
          },
          "execution_count": 133
        }
      ]
    },
    {
      "cell_type": "markdown",
      "metadata": {
        "id": "xWlc1Q087ewN"
      },
      "source": [
        "Setelah mengimport data set, selanjutnya adalah menampilkan informasi terkait data set, sehingga kita bisa tahu apakah data set yang akan digunakan terdapat missing data atau tidak. "
      ]
    },
    {
      "cell_type": "code",
      "metadata": {
        "id": "a_ufwZulPYd2",
        "outputId": "82de44c8-87d8-4b65-9cf7-1eba71c4d9bc",
        "colab": {
          "base_uri": "https://localhost:8080/"
        }
      },
      "source": [
        "# Prints the Dataset Information\n",
        "df_mall.info()"
      ],
      "execution_count": 134,
      "outputs": [
        {
          "output_type": "stream",
          "text": [
            "<class 'pandas.core.frame.DataFrame'>\n",
            "RangeIndex: 200 entries, 0 to 199\n",
            "Data columns (total 5 columns):\n",
            " #   Column                  Non-Null Count  Dtype \n",
            "---  ------                  --------------  ----- \n",
            " 0   CustomerID              200 non-null    int64 \n",
            " 1   Gender                  200 non-null    object\n",
            " 2   Age                     200 non-null    int64 \n",
            " 3   Annual Income (k$)      200 non-null    int64 \n",
            " 4   Spending Score (1-100)  200 non-null    int64 \n",
            "dtypes: int64(4), object(1)\n",
            "memory usage: 7.9+ KB\n"
          ],
          "name": "stdout"
        }
      ]
    },
    {
      "cell_type": "markdown",
      "metadata": {
        "id": "NyysCcVw8Hvu"
      },
      "source": [
        "Selanjutnya adalah untuk menampilkan beberapa informasi terkait data frame yang mencakup banyak data, mean, standar deviasi, kuartil, nilai min dan max"
      ]
    },
    {
      "cell_type": "code",
      "metadata": {
        "id": "gJ5_X7tmPcBQ",
        "outputId": "5e11bb9c-83d8-44c9-abbd-b33abeb05eee",
        "colab": {
          "base_uri": "https://localhost:8080/",
          "height": 300
        }
      },
      "source": [
        "# Prints Descriptive Statistics\n",
        "df_mall.describe()"
      ],
      "execution_count": 135,
      "outputs": [
        {
          "output_type": "execute_result",
          "data": {
            "text/html": [
              "<div>\n",
              "<style scoped>\n",
              "    .dataframe tbody tr th:only-of-type {\n",
              "        vertical-align: middle;\n",
              "    }\n",
              "\n",
              "    .dataframe tbody tr th {\n",
              "        vertical-align: top;\n",
              "    }\n",
              "\n",
              "    .dataframe thead th {\n",
              "        text-align: right;\n",
              "    }\n",
              "</style>\n",
              "<table border=\"1\" class=\"dataframe\">\n",
              "  <thead>\n",
              "    <tr style=\"text-align: right;\">\n",
              "      <th></th>\n",
              "      <th>CustomerID</th>\n",
              "      <th>Age</th>\n",
              "      <th>Annual Income (k$)</th>\n",
              "      <th>Spending Score (1-100)</th>\n",
              "    </tr>\n",
              "  </thead>\n",
              "  <tbody>\n",
              "    <tr>\n",
              "      <th>count</th>\n",
              "      <td>200.000000</td>\n",
              "      <td>200.000000</td>\n",
              "      <td>200.000000</td>\n",
              "      <td>200.000000</td>\n",
              "    </tr>\n",
              "    <tr>\n",
              "      <th>mean</th>\n",
              "      <td>100.500000</td>\n",
              "      <td>38.850000</td>\n",
              "      <td>60.560000</td>\n",
              "      <td>50.200000</td>\n",
              "    </tr>\n",
              "    <tr>\n",
              "      <th>std</th>\n",
              "      <td>57.879185</td>\n",
              "      <td>13.969007</td>\n",
              "      <td>26.264721</td>\n",
              "      <td>25.823522</td>\n",
              "    </tr>\n",
              "    <tr>\n",
              "      <th>min</th>\n",
              "      <td>1.000000</td>\n",
              "      <td>18.000000</td>\n",
              "      <td>15.000000</td>\n",
              "      <td>1.000000</td>\n",
              "    </tr>\n",
              "    <tr>\n",
              "      <th>25%</th>\n",
              "      <td>50.750000</td>\n",
              "      <td>28.750000</td>\n",
              "      <td>41.500000</td>\n",
              "      <td>34.750000</td>\n",
              "    </tr>\n",
              "    <tr>\n",
              "      <th>50%</th>\n",
              "      <td>100.500000</td>\n",
              "      <td>36.000000</td>\n",
              "      <td>61.500000</td>\n",
              "      <td>50.000000</td>\n",
              "    </tr>\n",
              "    <tr>\n",
              "      <th>75%</th>\n",
              "      <td>150.250000</td>\n",
              "      <td>49.000000</td>\n",
              "      <td>78.000000</td>\n",
              "      <td>73.000000</td>\n",
              "    </tr>\n",
              "    <tr>\n",
              "      <th>max</th>\n",
              "      <td>200.000000</td>\n",
              "      <td>70.000000</td>\n",
              "      <td>137.000000</td>\n",
              "      <td>99.000000</td>\n",
              "    </tr>\n",
              "  </tbody>\n",
              "</table>\n",
              "</div>"
            ],
            "text/plain": [
              "       CustomerID         Age  Annual Income (k$)  Spending Score (1-100)\n",
              "count  200.000000  200.000000          200.000000              200.000000\n",
              "mean   100.500000   38.850000           60.560000               50.200000\n",
              "std     57.879185   13.969007           26.264721               25.823522\n",
              "min      1.000000   18.000000           15.000000                1.000000\n",
              "25%     50.750000   28.750000           41.500000               34.750000\n",
              "50%    100.500000   36.000000           61.500000               50.000000\n",
              "75%    150.250000   49.000000           78.000000               73.000000\n",
              "max    200.000000   70.000000          137.000000               99.000000"
            ]
          },
          "metadata": {
            "tags": []
          },
          "execution_count": 135
        }
      ]
    },
    {
      "cell_type": "markdown",
      "metadata": {
        "id": "uHsfKXdl4A3C"
      },
      "source": [
        "### Data Prepocessing"
      ]
    },
    {
      "cell_type": "markdown",
      "metadata": {
        "id": "ddFBYik58bHj"
      },
      "source": [
        "Setelah selesai dengan import data set, selanjutnya adalah melakukan prepocessing data. Untuk hal pertama yang dilakukan adalah mengubah bentuk data \"gender\" yang sebelumnya dari objek menjadi nominal. "
      ]
    },
    {
      "cell_type": "code",
      "metadata": {
        "id": "SozHuD4dPeDa"
      },
      "source": [
        "df_mall['Gender'] = df_mall['Gender'].map({\n",
        "    \"Male\" : 1,\n",
        "    \"Female\" : 0\n",
        "})"
      ],
      "execution_count": 136,
      "outputs": []
    },
    {
      "cell_type": "markdown",
      "metadata": {
        "id": "FxJVBmIS8pWa"
      },
      "source": [
        "Lalu, selanjutnya dilakukan scaling data."
      ]
    },
    {
      "cell_type": "code",
      "metadata": {
        "id": "IaoeupekiPwp"
      },
      "source": [
        "# Importing Standardscalar Module \n",
        "from sklearn.preprocessing import StandardScaler \n",
        "\n",
        "# Set Name for StandardScaler as scaler\n",
        "scaler = StandardScaler() \n",
        "\n",
        "# Fit Standardization\n",
        "column_names = df_mall.columns.tolist()\n",
        "df_mall[column_names] = scaler.fit_transform(df_mall[column_names])\n",
        "df_mall.sort_index(inplace=True)\n",
        "df_mall\n",
        "df_mall.columns = [c.replace(' ', '_') for c in df_mall.columns]\n",
        "df_mall = df_mall[['Annual_Income_(k$)','Spending_Score_(1-100)']].copy()"
      ],
      "execution_count": 138,
      "outputs": []
    },
    {
      "cell_type": "markdown",
      "metadata": {
        "id": "aYf4v5zu4FZq"
      },
      "source": [
        "### Data Visualization"
      ]
    },
    {
      "cell_type": "markdown",
      "metadata": {
        "id": "SKcGPWfG8ujG"
      },
      "source": [
        "Setelah melakukan preprocessing, dilakukan visualisasi data dengan scatter-plot, untuk melihat pesebaran data yang ada. "
      ]
    },
    {
      "cell_type": "code",
      "metadata": {
        "id": "ZlBZjdEmPkvH",
        "outputId": "8164de7d-3cfb-4a27-cea3-b64f4455ce37",
        "colab": {
          "base_uri": "https://localhost:8080/",
          "height": 592
        }
      },
      "source": [
        "# Styling Plot\n",
        "sns.set() \n",
        "plt.rcParams['figure.figsize'] = (16, 9)\n",
        "\n",
        "# Visualizing the Data\n",
        "sns.scatterplot(x='Annual_Income_(k$)', y='Spending_Score_(1-100)', data=df_mall, color=\"purple\")\n",
        "plt.title('Customer Segments')\n",
        "plt.xlabel('Annual Income')\n",
        "plt.ylabel('Annual Spend')"
      ],
      "execution_count": 139,
      "outputs": [
        {
          "output_type": "execute_result",
          "data": {
            "text/plain": [
              "Text(0, 0.5, 'Annual Spend')"
            ]
          },
          "metadata": {
            "tags": []
          },
          "execution_count": 139
        },
        {
          "output_type": "display_data",
          "data": {
            "image/png": "[encoded data removed]",
            "text/plain": [
              "<Figure size 1152x648 with 1 Axes>"
            ]
          },
          "metadata": {
            "tags": []
          }
        }
      ]
    },
    {
      "cell_type": "markdown",
      "metadata": {
        "id": "jnos5v57PnxI"
      },
      "source": [
        "### Search for the Optimum Number of Clusters (K)"
      ]
    },
    {
      "cell_type": "markdown",
      "metadata": {
        "id": "sjmoLPln88A6"
      },
      "source": [
        "Untuk metode ini, kita harus menentukan berapa klaster (K) yang akan digunakan. Untuk menentukannya, ada 2 cara yang digunakan. yang pertama adalah Elbow method, dan silhoutte method."
      ]
    },
    {
      "cell_type": "markdown",
      "metadata": {
        "id": "CEYWhHU49MVl"
      },
      "source": [
        "**Elbow Method**"
      ]
    },
    {
      "cell_type": "code",
      "metadata": {
        "id": "Nsh9lCzSPpMU",
        "outputId": "b09023b5-964a-4bac-d037-e59e69893156",
        "colab": {
          "base_uri": "https://localhost:8080/",
          "height": 573
        }
      },
      "source": [
        "# Transform Data Frame to Numpy Array\n",
        "income = df_mall.to_numpy()\n",
        "income\n",
        "\n",
        "# Elbow Method\n",
        "from sklearn.cluster import KMeans\n",
        "wcss = []\n",
        "for i in range(1,20):\n",
        "    kmeans = KMeans(n_clusters=i, init='k-means++', max_iter=300, n_init=10, random_state=0)\n",
        "    kmeans.fit(income)\n",
        "    wcss.append(kmeans.inertia_)\n",
        "  \n",
        "# Visualize \n",
        "plt.plot(range(1,20),wcss, color=\"red\")\n",
        "plt.title('Elbow Method')\n",
        "plt.xlabel('Number of clusters')\n",
        "plt.ylabel('wcss')\n",
        "\n",
        "plt.show()"
      ],
      "execution_count": 140,
      "outputs": [
        {
          "output_type": "display_data",
          "data": {
            "image/png": "[encoded data removed]",
            "text/plain": [
              "<Figure size 1152x648 with 1 Axes>"
            ]
          },
          "metadata": {
            "tags": []
          }
        }
      ]
    },
    {
      "cell_type": "markdown",
      "metadata": {
        "id": "YhGoVfTl9c4j"
      },
      "source": [
        "Pada grafik hasil menggunakan metode elbow method, dapat dilihat jika \"siku\" grafik berada pada angka 5, sehingga klaster yang nantinya akan dipilih adalah 5. "
      ]
    },
    {
      "cell_type": "markdown",
      "metadata": {
        "id": "RtHuqajc-R9l"
      },
      "source": [
        "**Silhoutte Method**\n",
        "\n"
      ]
    },
    {
      "cell_type": "code",
      "metadata": {
        "id": "lJ_EXnlJPsZn",
        "outputId": "59895b6f-9183-4e26-d876-293c78c829d5",
        "colab": {
          "base_uri": "https://localhost:8080/"
        }
      },
      "source": [
        "# Silhoutte Method\n",
        "from sklearn.metrics import silhouette_score\n",
        "from sklearn.cluster import KMeans\n",
        "\n",
        "for n_cluster in range(2, 11):\n",
        "    kmeans = KMeans(n_clusters=n_cluster).fit(income)\n",
        "    label = kmeans.labels_\n",
        "    sil_coeff = silhouette_score(income, label, metric='euclidean')\n",
        "    print('For n_clusters={}, The Silhouette Coefficient is {}'.format(n_cluster, sil_coeff))"
      ],
      "execution_count": 141,
      "outputs": [
        {
          "output_type": "stream",
          "text": [
            "For n_clusters=2, The Silhouette Coefficient is 0.3146990432802128\n",
            "For n_clusters=3, The Silhouette Coefficient is 0.46658474419000145\n",
            "For n_clusters=4, The Silhouette Coefficient is 0.49390692375131984\n",
            "For n_clusters=5, The Silhouette Coefficient is 0.5546571631111091\n",
            "For n_clusters=6, The Silhouette Coefficient is 0.5377141165734254\n",
            "For n_clusters=7, The Silhouette Coefficient is 0.528149278110829\n",
            "For n_clusters=8, The Silhouette Coefficient is 0.4541279523637648\n",
            "For n_clusters=9, The Silhouette Coefficient is 0.455477460588866\n",
            "For n_clusters=10, The Silhouette Coefficient is 0.45050296216104463\n"
          ],
          "name": "stdout"
        }
      ]
    },
    {
      "cell_type": "markdown",
      "metadata": {
        "id": "IVDiI2WX-XIR"
      },
      "source": [
        "Pada Silhoutte Method, didapatkan hasil koefisien yang tertinggi adalah pada n klaster 5. sehingga K yang dipilih adalah 5."
      ]
    },
    {
      "cell_type": "markdown",
      "metadata": {
        "id": "S1Qc5qawPxT6"
      },
      "source": [
        "### Modelling K-Means"
      ]
    },
    {
      "cell_type": "markdown",
      "metadata": {
        "id": "vKZ8tiRx_Ctw"
      },
      "source": [
        "Setelah menentukan K, maka kita lanjut ke pemodelan K-Meann, dengan 5 klaster, dan x sebagai annual income dan y sebagai spending score. "
      ]
    },
    {
      "cell_type": "code",
      "metadata": {
        "id": "XwABSrAcPvK3",
        "outputId": "cba56ea8-ac6c-4b4f-e49b-1fd99362c0eb",
        "colab": {
          "base_uri": "https://localhost:8080/",
          "height": 573
        }
      },
      "source": [
        "# Apply the K-Means Model to the Data\n",
        "kmeans = KMeans(n_clusters=5, init='k-means++', max_iter=300, n_init=10, random_state=0)\n",
        "cluster = kmeans.fit_predict(income)\n",
        "\n",
        "# Visualising Clusters for k=5\n",
        "sns.scatterplot(x='Annual_Income_(k$)', y='Spending_Score_(1-100)', data=df_mall)\n",
        "plt.scatter(income[cluster == 0, 0], income[cluster == 0, 1], s = 50, label = 'Cluster 1')\n",
        "plt.scatter(income[cluster == 1, 0], income[cluster == 1, 1], s = 50, label = 'Cluster 2')\n",
        "plt.scatter(income[cluster == 2, 0], income[cluster == 2, 1], s = 50, label = 'Cluster 3')\n",
        "plt.scatter(income[cluster == 3, 0], income[cluster == 3, 1], s = 50, label = 'Cluster 4')\n",
        "plt.scatter(income[cluster == 4, 0], income[cluster == 4, 1], s = 50, label = 'Cluster 5')\n",
        "\n",
        "plt.scatter(kmeans.cluster_centers_[:,0], kmeans.cluster_centers_[:,1],s=200,marker='1', alpha=0.7, label='Centroids', c='black')\n",
        "plt.title('Customer segments')\n",
        "plt.xlabel('Annual income')\n",
        "plt.ylabel('Annual spend')\n",
        "plt.legend()\n",
        "plt.show()"
      ],
      "execution_count": 142,
      "outputs": [
        {
          "output_type": "display_data",
          "data": {
            "image/png": "[encoded data removed]",
            "text/plain": [
              "<Figure size 1152x648 with 1 Axes>"
            ]
          },
          "metadata": {
            "tags": []
          }
        }
      ]
    },
    {
      "cell_type": "markdown",
      "metadata": {
        "id": "26baZtZJ_XnZ"
      },
      "source": [
        "Maka didapatkan output dari pemodelan tersebut adalah seperti scatter plot diatas, dimana tiap warna berbeda menunjukkan klaster yang berbeda, dengan centroids tiap klaster yang dilambangkan Y."
      ]
    },
    {
      "cell_type": "markdown",
      "metadata": {
        "id": "Ok__vuKC_nQN"
      },
      "source": [
        "Setelah mendapatkan pemodelan, maka bisa langsung diimplementasikan ke data set yang kita miliki."
      ]
    },
    {
      "cell_type": "code",
      "metadata": {
        "id": "yzm-V2wtP5nx",
        "outputId": "8be0d3c5-952e-4c24-b5aa-ac213468258e",
        "colab": {
          "base_uri": "https://localhost:8080/",
          "height": 424
        }
      },
      "source": [
        "# Save= Result\n",
        "# Add Cluster Information to the Raw Data\n",
        "df_income['cluster'] = cluster\n",
        "df_income"
      ],
      "execution_count": 147,
      "outputs": [
        {
          "output_type": "execute_result",
          "data": {
            "text/html": [
              "<div>\n",
              "<style scoped>\n",
              "    .dataframe tbody tr th:only-of-type {\n",
              "        vertical-align: middle;\n",
              "    }\n",
              "\n",
              "    .dataframe tbody tr th {\n",
              "        vertical-align: top;\n",
              "    }\n",
              "\n",
              "    .dataframe thead th {\n",
              "        text-align: right;\n",
              "    }\n",
              "</style>\n",
              "<table border=\"1\" class=\"dataframe\">\n",
              "  <thead>\n",
              "    <tr style=\"text-align: right;\">\n",
              "      <th></th>\n",
              "      <th>CustomerID</th>\n",
              "      <th>Gender</th>\n",
              "      <th>Age</th>\n",
              "      <th>Annual Income (k$)</th>\n",
              "      <th>Spending Score (1-100)</th>\n",
              "      <th>cluster</th>\n",
              "    </tr>\n",
              "  </thead>\n",
              "  <tbody>\n",
              "    <tr>\n",
              "      <th>0</th>\n",
              "      <td>1</td>\n",
              "      <td>1</td>\n",
              "      <td>19</td>\n",
              "      <td>15</td>\n",
              "      <td>39</td>\n",
              "      <td>4</td>\n",
              "    </tr>\n",
              "    <tr>\n",
              "      <th>1</th>\n",
              "      <td>2</td>\n",
              "      <td>1</td>\n",
              "      <td>21</td>\n",
              "      <td>15</td>\n",
              "      <td>81</td>\n",
              "      <td>1</td>\n",
              "    </tr>\n",
              "    <tr>\n",
              "      <th>2</th>\n",
              "      <td>3</td>\n",
              "      <td>0</td>\n",
              "      <td>20</td>\n",
              "      <td>16</td>\n",
              "      <td>6</td>\n",
              "      <td>4</td>\n",
              "    </tr>\n",
              "    <tr>\n",
              "      <th>3</th>\n",
              "      <td>4</td>\n",
              "      <td>0</td>\n",
              "      <td>23</td>\n",
              "      <td>16</td>\n",
              "      <td>77</td>\n",
              "      <td>1</td>\n",
              "    </tr>\n",
              "    <tr>\n",
              "      <th>4</th>\n",
              "      <td>5</td>\n",
              "      <td>0</td>\n",
              "      <td>31</td>\n",
              "      <td>17</td>\n",
              "      <td>40</td>\n",
              "      <td>4</td>\n",
              "    </tr>\n",
              "    <tr>\n",
              "      <th>...</th>\n",
              "      <td>...</td>\n",
              "      <td>...</td>\n",
              "      <td>...</td>\n",
              "      <td>...</td>\n",
              "      <td>...</td>\n",
              "      <td>...</td>\n",
              "    </tr>\n",
              "    <tr>\n",
              "      <th>195</th>\n",
              "      <td>196</td>\n",
              "      <td>0</td>\n",
              "      <td>35</td>\n",
              "      <td>120</td>\n",
              "      <td>79</td>\n",
              "      <td>3</td>\n",
              "    </tr>\n",
              "    <tr>\n",
              "      <th>196</th>\n",
              "      <td>197</td>\n",
              "      <td>0</td>\n",
              "      <td>45</td>\n",
              "      <td>126</td>\n",
              "      <td>28</td>\n",
              "      <td>0</td>\n",
              "    </tr>\n",
              "    <tr>\n",
              "      <th>197</th>\n",
              "      <td>198</td>\n",
              "      <td>1</td>\n",
              "      <td>32</td>\n",
              "      <td>126</td>\n",
              "      <td>74</td>\n",
              "      <td>3</td>\n",
              "    </tr>\n",
              "    <tr>\n",
              "      <th>198</th>\n",
              "      <td>199</td>\n",
              "      <td>1</td>\n",
              "      <td>32</td>\n",
              "      <td>137</td>\n",
              "      <td>18</td>\n",
              "      <td>0</td>\n",
              "    </tr>\n",
              "    <tr>\n",
              "      <th>199</th>\n",
              "      <td>200</td>\n",
              "      <td>1</td>\n",
              "      <td>30</td>\n",
              "      <td>137</td>\n",
              "      <td>83</td>\n",
              "      <td>3</td>\n",
              "    </tr>\n",
              "  </tbody>\n",
              "</table>\n",
              "<p>200 rows × 6 columns</p>\n",
              "</div>"
            ],
            "text/plain": [
              "     CustomerID  Gender  ...  Spending Score (1-100)  cluster\n",
              "0             1       1  ...                      39        4\n",
              "1             2       1  ...                      81        1\n",
              "2             3       0  ...                       6        4\n",
              "3             4       0  ...                      77        1\n",
              "4             5       0  ...                      40        4\n",
              "..          ...     ...  ...                     ...      ...\n",
              "195         196       0  ...                      79        3\n",
              "196         197       0  ...                      28        0\n",
              "197         198       1  ...                      74        3\n",
              "198         199       1  ...                      18        0\n",
              "199         200       1  ...                      83        3\n",
              "\n",
              "[200 rows x 6 columns]"
            ]
          },
          "metadata": {
            "tags": []
          },
          "execution_count": 147
        }
      ]
    },
    {
      "cell_type": "code",
      "metadata": {
        "id": "8OEo-Rcc09VJ"
      },
      "source": [
        "# Save= Result\n",
        "df_income.to_csv('Mall_Customer.csv', index=False)"
      ],
      "execution_count": 145,
      "outputs": []
    }
  ]
}